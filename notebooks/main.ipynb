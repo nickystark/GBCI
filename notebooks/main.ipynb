{
  "nbformat": 4,
  "nbformat_minor": 0,
  "metadata": {
    "colab": {
      "provenance": [],
      "include_colab_link": true
    },
    "kernelspec": {
      "name": "python3",
      "display_name": "Python 3"
    },
    "language_info": {
      "name": "python"
    }
  },
  "cells": [
    {
      "cell_type": "markdown",
      "metadata": {
        "id": "view-in-github",
        "colab_type": "text"
      },
      "source": [
        "<a href=\"https://colab.research.google.com/github/nickystark/GBCI/blob/main/notebooks/main.ipynb\" target=\"_parent\"><img src=\"https://colab.research.google.com/assets/colab-badge.svg\" alt=\"Open In Colab\"/></a>"
      ]
    },
    {
      "source": [
        "# Clone the repository\n",
        "!git clone https://github.com/nickystark/GBCI.git\n",
        "\n",
        "# Change directory to the cloned repository\n",
        "%cd GBCI\n",
        "\n",
        "# Install the required dependencies\n",
        "!pip install -r requirements.txt\n",
        "\n",
        "# Now you can run the main script or notebook from the repository\n",
        "# For example, if the main script is `main.py`, you can run it using:\n",
        "# !python main.py\n",
        "# Or if there is a Jupyter Notebook, you can open and run it within Colab's environment.\n",
        "\n",
        "# Replace the following line with the actual command to run the main part of the project\n",
        "# For example, if there is a main script called `run_analysis.py`, you would use:\n",
        "# !python run_analysis.py\n",
        "\n",
        "# If the main part is a Jupyter Notebook, you would navigate to it in the file explorer\n",
        "# on the left and open it."
      ],
      "cell_type": "code",
      "metadata": {
        "id": "dDAyMOHS746K",
        "outputId": "bb955edc-de09-4b71-b34b-ca6a73d4433d",
        "colab": {
          "base_uri": "https://localhost:8080/"
        }
      },
      "execution_count": 1,
      "outputs": [
        {
          "output_type": "stream",
          "name": "stdout",
          "text": [
            "Cloning into 'GBCI'...\n",
            "remote: Enumerating objects: 121, done.\u001b[K\n",
            "remote: Counting objects: 100% (121/121), done.\u001b[K\n",
            "remote: Compressing objects: 100% (107/107), done.\u001b[K\n",
            "remote: Total 121 (delta 53), reused 0 (delta 0), pack-reused 0 (from 0)\u001b[K\n",
            "Receiving objects: 100% (121/121), 41.93 KiB | 5.99 MiB/s, done.\n",
            "Resolving deltas: 100% (53/53), done.\n",
            "/content/GBCI\n",
            "\u001b[31mERROR: Could not open requirements file: [Errno 2] No such file or directory: 'requirements.txt'\u001b[0m\u001b[31m\n",
            "\u001b[0m"
          ]
        }
      ]
    }
  ]
}