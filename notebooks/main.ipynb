# notebooks/main.ipynb
import torch
from src.config_tuning import config
from src.data_loader import get_data_loader
from src.model import LatentDiffusionModel
from src.train import train
from src.predict import load_model, generate_image

# Display a summary of the configuration
print(vars(config))

# Optionally, initialize the data loader and display some images
train_loader = get_data_loader("./data/processed", config.batch_size)
images = next(iter(train_loader))
print("Batch shape:", images.shape)
