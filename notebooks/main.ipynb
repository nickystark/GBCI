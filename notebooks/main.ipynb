# notebooks/main.ipynb

import torch
from src.config_tuning import config
from src.data_loader import get_data_loader
from src.model import LatentDiffusionModel
from src.train import train
from src.predict import load_model, generate_image
from src.utils import display_images

# Display config parameters
print(vars(config))

# Load a mini-batch from the data loader
train_loader = get_data_loader("./data/processed", config.batch_size)
images = next(iter(train_loader))
print("Batch shape:", images.shape)

# (Optional) Run a quick training demo or use a pre-trained model for inference.
